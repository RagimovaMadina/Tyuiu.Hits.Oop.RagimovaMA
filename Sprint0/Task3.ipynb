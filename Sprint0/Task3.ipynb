{
 "cells": [
  {
   "cell_type": "markdown",
   "metadata": {},
   "source": [
    "<h1 style=\"color:DodgerBlue\">Индивидальный проект</h1>"
   ]
  },
  {
   "cell_type": "markdown",
   "metadata": {},
   "source": [
    "<h2 style=\"color:DodgerBlue\">Название проекта:</h2>\n",
    "\n",
    "----\n",
    "\n",
    "### Вариант задания №14\n"
   ]
  },
  {
   "cell_type": "markdown",
   "metadata": {},
   "source": [
    "<h2 style=\"color:DodgerBlue\">Описание проекта:</h2>\n",
    "\n",
    "----\n",
    "\n",
    "Создать базовый класс Supplier в C#, который будет представлять информацию о\n",
    "поставщиках товаров или услуг. На основе этого класса разработать 2-3\n",
    "производных класса, демонстрирующих принципы наследования и полиморфизма.\n",
    "В каждом из классов должны быть реализованы новые атрибуты и методы, а также\n",
    "переопределены некоторые методы базового класса для демонстрации\n",
    "полиморфизма.\n"
   ]
  },
  {
   "cell_type": "markdown",
   "metadata": {},
   "source": [
    "<h2 style=\"color:DodgerBlue\">Реализация:</h2>\n",
    "\n",
    "----"
   ]
  },
  {
   "cell_type": "code",
   "execution_count": 2,
   "metadata": {
    "dotnet_interactive": {
     "language": "csharp"
    },
    "polyglot_notebook": {
     "kernelName": "csharp"
    }
   },
   "outputs": [],
   "source": [
    "public class Supplier\n",
    "{\n",
    "    public int SupplierId;          //атрибуты класса\n",
    "    public string CompanyName;\n",
    "    public string ProductType;\n",
    "\n",
    "    public Supplier( int supplierid, string companyname,  string producttype) //конструктор\n",
    "    {\n",
    "        SupplierId = supplierid;\n",
    "        CompanyName = companyname;\n",
    "        ProductType = producttype;\n",
    "    }\n",
    "\n",
    "    public virtual void GetCompanyInfo()\n",
    "    {\n",
    "        Console.WriteLine($\"ID поставщика: {SupplierId}; Название компании: {CompanyName}; Тип продукции:{ProductType}\");\n",
    "    }\n",
    "\n",
    "    public virtual void ProvideQuote()\n",
    "    {\n",
    "        Console.WriteLine($\"Предоставить котировку на товар или услугу: {ProductType}\");\n",
    "    }\n",
    "\n",
    "    public virtual void SubmitOrder()\n",
    "    {\n",
    "        Console.WriteLine($\"Отправка заказа поставщику: {SupplierId}\");\n",
    "    }\n",
    "}\n",
    "\n",
    "public class Manufacturer : Supplier\n",
    "{\n",
    "    public int FoundedYear;\n",
    "\n",
    "    public override void ProvideQuote()\n",
    "    {\n",
    "        base.ProvideQuote();\n",
    "        Console.WriteLine($\"Год основания компании: {FoundedYear}\");\n",
    "    }\n",
    "}\n",
    "\n"
   ]
  }
 ],
 "metadata": {
  "kernelspec": {
   "display_name": ".NET (C#)",
   "language": "C#",
   "name": ".net-csharp"
  },
  "polyglot_notebook": {
   "kernelInfo": {
    "defaultKernelName": "csharp",
    "items": [
     {
      "aliases": [],
      "languageName": "csharp",
      "name": "csharp"
     }
    ]
   }
  }
 },
 "nbformat": 4,
 "nbformat_minor": 2
}
