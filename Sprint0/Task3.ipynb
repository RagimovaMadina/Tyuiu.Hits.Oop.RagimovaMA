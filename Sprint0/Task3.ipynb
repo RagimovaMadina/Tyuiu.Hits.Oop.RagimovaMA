{
 "cells": [
  {
   "cell_type": "markdown",
   "metadata": {},
   "source": [
    "<h1 style=\"color:DodgerBlue\">Индивидальный проект</h1>"
   ]
  },
  {
   "cell_type": "markdown",
   "metadata": {},
   "source": [
    "<h2 style=\"color:DodgerBlue\">Название проекта:</h2>\n",
    "\n",
    "----\n",
    "\n",
    "### Вариант задания №14\n"
   ]
  },
  {
   "cell_type": "markdown",
   "metadata": {},
   "source": [
    "<h2 style=\"color:DodgerBlue\">Описание проекта:</h2>\n",
    "\n",
    "----\n",
    "\n",
    "Создать базовый класс Supplier в C#, который будет представлять информацию о\n",
    "поставщиках товаров или услуг. На основе этого класса разработать 2-3\n",
    "производных класса, демонстрирующих принципы наследования и полиморфизма.\n",
    "В каждом из классов должны быть реализованы новые атрибуты и методы, а также\n",
    "переопределены некоторые методы базового класса для демонстрации\n",
    "полиморфизма.\n"
   ]
  },
  {
   "cell_type": "markdown",
   "metadata": {},
   "source": [
    "<h2 style=\"color:DodgerBlue\">Реализация:</h2>\n",
    "\n",
    "----"
   ]
  },
  {
   "cell_type": "code",
   "execution_count": 2,
   "metadata": {
    "dotnet_interactive": {
     "language": "csharp"
    },
    "polyglot_notebook": {
     "kernelName": "csharp"
    }
   },
   "outputs": [
    {
     "name": "stdout",
     "output_type": "stream",
     "text": [
      "ID поставщика: 3; Название компании: Silent Hill; Тип продукции: Видеоигры\n",
      "Предоставление котировки на товары или услуги.\n",
      "Отправка заказа поставщику.\n",
      "\n",
      "ID поставщика: 15; Название компании: Biohazard; Тип продукции: Биологическое оружие\n",
      "Год основания компании 2001.\n",
      "Отправка заказа поставщику.\n",
      "\n",
      "ID поставщика: 28; Название компании: CyberLife; Тип продукции: Роботы\n",
      "Предоставление котировки на товары или услуги.\n",
      "Отправка заказа по адресу: Детроит\n",
      "\n",
      "ID поставщика: 52. Название компании: Балдёж. Тип продукции: Пиво. Страна производства: Норвегия\n",
      "Предоставление котировки на товары или услуги.\n",
      "Отправка заказа поставщику.\n"
     ]
    }
   ],
   "source": [
    "class Supplier\n",
    "{\n",
    "    public int supplierid;          //атрибуты класса\n",
    "    public string companyname;\n",
    "    public string producttype;\n",
    "\n",
    "    public virtual void GetCompanyInfo()\n",
    "    {\n",
    "        Console.WriteLine($\"ID поставщика: {supplierid}; Название компании: {companyname}; Тип продукции: {producttype}\");\n",
    "    }\n",
    "\n",
    "    public virtual void ProvideQuote()\n",
    "    {\n",
    "        Console.WriteLine(\"Предоставление котировки на товары или услуги.\");\n",
    "    }\n",
    "\n",
    "    public virtual void SubmitOrder()\n",
    "    {\n",
    "        Console.WriteLine(\"Отправка заказа поставщику.\");\n",
    "    }\n",
    "}\n",
    "\n",
    "class Manufacturer : Supplier\n",
    "{\n",
    "    public int foundedyear;\n",
    "\n",
    "    public override void ProvideQuote()\n",
    "    {\n",
    "        Console.WriteLine($\"Год основания компании {foundedyear}.\");\n",
    "    }\n",
    "}\n",
    "\n",
    "class Retailer : Supplier\n",
    "{\n",
    "    public string storelocation;\n",
    "\n",
    "    public override void SubmitOrder()\n",
    "    {\n",
    "        Console.WriteLine($\"Отправка заказа по адресу: {storelocation}\");\n",
    "    }\n",
    "}\n",
    "\n",
    "class Importer : Supplier\n",
    "{\n",
    "    public string origincountry;\n",
    "\n",
    "    public override void GetCompanyInfo()\n",
    "    {\n",
    "        Console.WriteLine($\"ID поставщика: {supplierid}. Название компании: {companyname}. Тип продукции: {producttype}. Страна производства: {origincountry}\");\n",
    "    }\n",
    "}\n",
    "\n",
    "//class supplier\n",
    "Supplier supplier = new Supplier();\n",
    "\n",
    "supplier.supplierid = 3;\n",
    "supplier.companyname = \"Silent Hill\";\n",
    "supplier.producttype = \"Видеоигры\";\n",
    "\n",
    "supplier.GetCompanyInfo();\n",
    "supplier.ProvideQuote();\n",
    "supplier.SubmitOrder();\n",
    "\n",
    "Console.WriteLine();\n",
    "\n",
    "//class manufacturer\n",
    "Manufacturer manufacturer = new Manufacturer();\n",
    "\n",
    "manufacturer.foundedyear = 2001;\n",
    "manufacturer.supplierid = 15;\n",
    "manufacturer.companyname = \"Biohazard\";\n",
    "manufacturer.producttype = \"Биологическое оружие\";\n",
    "\n",
    "manufacturer.GetCompanyInfo();\n",
    "manufacturer.ProvideQuote();\n",
    "manufacturer.SubmitOrder();\n",
    "\n",
    "Console.WriteLine();\n",
    "\n",
    "//class retailer\n",
    "Retailer retailer = new Retailer();\n",
    "\n",
    "retailer.storelocation = \"Детроит\";\n",
    "retailer.supplierid = 28;\n",
    "retailer.companyname = \"CyberLife\";\n",
    "retailer.producttype = \"Роботы\";\n",
    "\n",
    "retailer.GetCompanyInfo();\n",
    "retailer.ProvideQuote();\n",
    "retailer.SubmitOrder();\n",
    "\n",
    "Console.WriteLine();\n",
    "\n",
    "//class importer\n",
    "Importer importer = new Importer();\n",
    "\n",
    "importer.origincountry = \"Норвегия\";\n",
    "importer.supplierid = 52;\n",
    "importer.companyname = \"Балдёж\";\n",
    "importer.producttype = \"Шоколад\";\n",
    "\n",
    "importer.GetCompanyInfo();\n",
    "importer.ProvideQuote();\n",
    "importer.SubmitOrder();\n"
   ]
  }
 ],
 "metadata": {
  "kernelspec": {
   "display_name": ".NET (C#)",
   "language": "C#",
   "name": ".net-csharp"
  },
  "polyglot_notebook": {
   "kernelInfo": {
    "defaultKernelName": "csharp",
    "items": [
     {
      "aliases": [],
      "languageName": "csharp",
      "name": "csharp"
     }
    ]
   }
  }
 },
 "nbformat": 4,
 "nbformat_minor": 2
}
